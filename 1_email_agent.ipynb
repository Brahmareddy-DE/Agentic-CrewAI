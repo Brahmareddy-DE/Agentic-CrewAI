{
 "cells": [
  {
   "cell_type": "code",
   "id": "initial_id",
   "metadata": {
    "collapsed": true,
    "ExecuteTime": {
     "end_time": "2025-09-10T13:21:58.120196Z",
     "start_time": "2025-09-10T13:21:57.872348Z"
    }
   },
   "source": [
    "from dotenv import load_dotenv\n",
    "from sympy.physics.units import temperature\n",
    "\n",
    "load_dotenv(override=True)"
   ],
   "outputs": [
    {
     "data": {
      "text/plain": [
       "True"
      ]
     },
     "execution_count": 9,
     "metadata": {},
     "output_type": "execute_result"
    }
   ],
   "execution_count": 9
  },
  {
   "metadata": {
    "ExecuteTime": {
     "end_time": "2025-09-10T13:31:34.995059Z",
     "start_time": "2025-09-10T13:31:21.426816Z"
    }
   },
   "cell_type": "code",
   "source": [
    "from crewai import Agent, Task, Crew, LLM\n",
    "\n",
    "llm = LLM(\n",
    "    model = 'gemini/gemini-2.5-flash',\n",
    "    temperatue = 4\n",
    ")\n",
    "\n",
    "llm.call('Do you know mandadi. it is located in palnadu district from andhrapradesh. tell about this village story')"
   ],
   "id": "e45e5c807cd72017",
   "outputs": [
    {
     "data": {
      "text/plain": [
       "\u001B[1;32m✅ Crew: \u001B[0m\u001B[32mcrew\u001B[0m\n",
       "└── \u001B[1;32m📋 Task: de7667f1-e029-48b5-95b4-ce1897658b60\u001B[0m\n",
       "    \u001B[37m   Assigned to: \u001B[0m\u001B[32mEmail Assistant Agent\u001B[0m\n",
       "    \u001B[37m   Status: \u001B[0m\u001B[1;32m✅ Completed\u001B[0m\n",
       "    └── \u001B[1;32m🤖 Agent: \u001B[0m\u001B[32mEmail Assistant Agent\u001B[0m\n",
       "        \u001B[37m    Status: \u001B[0m\u001B[1;32m✅ Completed\u001B[0m\n",
       "        └── \u001B[1;34m🧠 \u001B[0m\u001B[34mThinking...\u001B[0m\n"
      ],
      "text/html": [
       "<pre style=\"white-space:pre;overflow-x:auto;line-height:normal;font-family:Menlo,'DejaVu Sans Mono',consolas,'Courier New',monospace\"><span style=\"color: #008000; text-decoration-color: #008000; font-weight: bold\">✅ Crew: </span><span style=\"color: #008000; text-decoration-color: #008000\">crew</span>\n",
       "└── <span style=\"color: #008000; text-decoration-color: #008000; font-weight: bold\">📋 Task: de7667f1-e029-48b5-95b4-ce1897658b60</span>\n",
       "    <span style=\"color: #c0c0c0; text-decoration-color: #c0c0c0\">   Assigned to: </span><span style=\"color: #008000; text-decoration-color: #008000\">Email Assistant Agent</span>\n",
       "    <span style=\"color: #c0c0c0; text-decoration-color: #c0c0c0\">   Status: </span><span style=\"color: #008000; text-decoration-color: #008000; font-weight: bold\">✅ Completed</span>\n",
       "    └── <span style=\"color: #008000; text-decoration-color: #008000; font-weight: bold\">🤖 Agent: </span><span style=\"color: #008000; text-decoration-color: #008000\">Email Assistant Agent</span>\n",
       "        <span style=\"color: #c0c0c0; text-decoration-color: #c0c0c0\">    Status: </span><span style=\"color: #008000; text-decoration-color: #008000; font-weight: bold\">✅ Completed</span>\n",
       "        └── <span style=\"color: #000080; text-decoration-color: #000080; font-weight: bold\">🧠 </span><span style=\"color: #000080; text-decoration-color: #000080\">Thinking...</span>\n",
       "</pre>\n"
      ]
     },
     "metadata": {},
     "output_type": "display_data",
     "jetTransient": {
      "display_id": null
     }
    },
    {
     "data": {
      "text/plain": [
       "\n"
      ],
      "text/html": [
       "<pre style=\"white-space:pre;overflow-x:auto;line-height:normal;font-family:Menlo,'DejaVu Sans Mono',consolas,'Courier New',monospace\">\n",
       "</pre>\n"
      ]
     },
     "metadata": {},
     "output_type": "display_data",
     "jetTransient": {
      "display_id": null
     }
    },
    {
     "data": {
      "text/plain": [
       "\u001B[1;32m✅ Crew: \u001B[0m\u001B[32mcrew\u001B[0m\n",
       "└── \u001B[1;32m📋 Task: de7667f1-e029-48b5-95b4-ce1897658b60\u001B[0m\n",
       "    \u001B[37m   Assigned to: \u001B[0m\u001B[32mEmail Assistant Agent\u001B[0m\n",
       "    \u001B[37m   Status: \u001B[0m\u001B[1;32m✅ Completed\u001B[0m\n",
       "    └── \u001B[1;32m🤖 Agent: \u001B[0m\u001B[32mEmail Assistant Agent\u001B[0m\n",
       "        \u001B[37m    Status: \u001B[0m\u001B[1;32m✅ Completed\u001B[0m\n"
      ],
      "text/html": [
       "<pre style=\"white-space:pre;overflow-x:auto;line-height:normal;font-family:Menlo,'DejaVu Sans Mono',consolas,'Courier New',monospace\"><span style=\"color: #008000; text-decoration-color: #008000; font-weight: bold\">✅ Crew: </span><span style=\"color: #008000; text-decoration-color: #008000\">crew</span>\n",
       "└── <span style=\"color: #008000; text-decoration-color: #008000; font-weight: bold\">📋 Task: de7667f1-e029-48b5-95b4-ce1897658b60</span>\n",
       "    <span style=\"color: #c0c0c0; text-decoration-color: #c0c0c0\">   Assigned to: </span><span style=\"color: #008000; text-decoration-color: #008000\">Email Assistant Agent</span>\n",
       "    <span style=\"color: #c0c0c0; text-decoration-color: #c0c0c0\">   Status: </span><span style=\"color: #008000; text-decoration-color: #008000; font-weight: bold\">✅ Completed</span>\n",
       "    └── <span style=\"color: #008000; text-decoration-color: #008000; font-weight: bold\">🤖 Agent: </span><span style=\"color: #008000; text-decoration-color: #008000\">Email Assistant Agent</span>\n",
       "        <span style=\"color: #c0c0c0; text-decoration-color: #c0c0c0\">    Status: </span><span style=\"color: #008000; text-decoration-color: #008000; font-weight: bold\">✅ Completed</span>\n",
       "</pre>\n"
      ]
     },
     "metadata": {},
     "output_type": "display_data",
     "jetTransient": {
      "display_id": null
     }
    },
    {
     "data": {
      "text/plain": [
       "\n"
      ],
      "text/html": [
       "<pre style=\"white-space:pre;overflow-x:auto;line-height:normal;font-family:Menlo,'DejaVu Sans Mono',consolas,'Courier New',monospace\">\n",
       "</pre>\n"
      ]
     },
     "metadata": {},
     "output_type": "display_data",
     "jetTransient": {
      "display_id": null
     }
    },
    {
     "data": {
      "text/plain": [
       "'Yes, I am aware of **Mandadi** village in the **Palnadu district** of Andhra Pradesh. You\\'ve correctly identified its location.\\n\\nWhile it\\'s challenging to recount a specific, widely documented \"story\" or singular historical event for every small village like Mandadi without specific local archives or oral histories, I can tell you about the typical \"story\" or life of a village like Mandadi, based on its location in the Palnadu region and the general characteristics of Andhra Pradesh villages.\\n\\nHere\\'s a narrative that likely captures the essence of Mandadi\\'s \"story\":\\n\\n---\\n\\n### The Story of Mandadi: A Tapestry of Land, Life, and Tradition\\n\\nMandadi, nestled in the fertile plains of the Palnadu district, is a testament to the enduring spirit of rural Andhra Pradesh. Its story, like that of countless villages across India, is deeply intertwined with the land, the rhythm of seasons, and the strong bonds of community.\\n\\n**1. The Heartbeat of Agriculture:**\\nThe primary \"story\" of Mandadi is written in its fields. Palnadu is known for its agricultural prowess, and Mandadi would be no exception. Generations of families have tilled the soil, growing staple crops like **paddy (rice)**, and cash crops such as **cotton, chillies, and groundnuts**. The village\\'s prosperity and challenges often hinge on the monsoons and the availability of irrigation from canals or borewells. The cycle of sowing, tending, and harvesting forms the very pulse of life here, dictating daily routines and annual festivals.\\n\\n**2. A Cradle of Culture and Tradition:**\\nMandadi is a repository of Telugu culture. The villagers speak Telugu, celebrating festivals with traditional fervor.\\n*   **Temples:** Every village has its sacred spaces. Mandadi would likely have a central village temple dedicated to deities like Lord Shiva, Vishnu (in various forms), or local *grama devatas* (village goddesses) who are believed to protect the community. These temples are not just places of worship but also social hubs for gatherings and celebrations.\\n*   **Festivals:** Festivals like **Sankranti (harvest festival), Ugadi (Telugu New Year), Dasara, and Diwali** are celebrated with immense enthusiasm, bringing families together, often with special foods, traditional music, and dance. Local temple festivals, unique to the village and its surrounding areas, would also be significant events.\\n*   **Community Life:** The social fabric is strong, characterized by close-knit families and a sense of collective responsibility. Hospitality is a deeply ingrained value, and neighbours often support each other through life\\'s joys and sorrows.\\n\\n**3. From Tradition to Transition:**\\nWhile deeply rooted in tradition, Mandadi is also part of a changing India.\\n*   **Challenges:** Like many rural areas, Mandadi might face challenges such as rural-urban migration (as younger generations seek education and employment opportunities in towns and cities), fluctuating market prices for agricultural produce, and access to advanced healthcare and educational facilities.\\n*   **Development:** Over time, the village would have seen improvements in infrastructure – better roads connecting it to nearby towns, access to electricity, and cleaner drinking water facilities. The digital revolution has likely reached Mandadi too, with mobile phones and internet connectivity slowly transforming communication and access to information.\\n*   **Education:** There would be a primary school within the village, and children would likely travel to nearby mandal headquarters for higher education.\\n\\n**4. The Enduring Spirit:**\\nThe \"story\" of Mandadi is ultimately one of resilience, community spirit, and an unwavering connection to the land and its heritage. It\\'s a place where ancient customs coexist with modern aspirations, and where the simple rhythms of rural life continue to thrive, even as the world around it rapidly evolves.\\n\\nTo truly uncover specific historical anecdotes or unique stories about Mandadi, one would need to speak with its elders, local historians, or visit the village itself to delve into its specific oral traditions and community memories.'"
      ]
     },
     "execution_count": 14,
     "metadata": {},
     "output_type": "execute_result"
    }
   ],
   "execution_count": 14
  },
  {
   "metadata": {
    "ExecuteTime": {
     "end_time": "2025-09-10T13:41:08.513396Z",
     "start_time": "2025-09-10T13:41:02.442347Z"
    }
   },
   "cell_type": "code",
   "source": [
    "from crewai import Agent, Task, Crew, LLM\n",
    "\n",
    "# initialize the LLM Model\n",
    "llm = LLM(\n",
    "    model = 'gemini/gemini-2.5-flash'\n",
    ")\n",
    "\n",
    "# Creating the email agent\n",
    "\n",
    "email_assistant = Agent(\n",
    "    role = 'Email assistant',\n",
    "    goal = 'improve emails and make them sound professional and clear',\n",
    "    backstory= 'a highly experienced communication expert skilled in professional email writing',\n",
    "    verbose=True,\n",
    "    llm = llm\n",
    ")\n",
    "\n",
    "# original email body to rewrite into professional\n",
    "\n",
    "original_email = ('Hey team, just wanted to tell you that the demo is kind of ready, but there is still stuff left.\\\n",
    "                 may be we can show what we have and say rest is WIP.\\\n",
    "                  let me know what you do you think.Thanks'\n",
    "                  )\n",
    "\n",
    "# creating the task work on particular email task\n",
    "\n",
    "email_task = Task(\n",
    "    description=f'take the following rough email and rewrite it into a professional email. expand abbrevations : {original_email}',\n",
    "    agent = email_assistant,\n",
    "    expected_output= 'professional written email with proper formatting and content'\n",
    ")\n",
    "\n",
    "# adding  all together into crew\n",
    "\n",
    "crew = Crew(\n",
    "    agents = [email_assistant],\n",
    "    tasks = [email_task],\n",
    "    verbose = True\n",
    ")\n",
    "\n",
    "result = crew.kickoff()\n",
    "print(result)\n"
   ],
   "id": "71bfabe619380d83",
   "outputs": [
    {
     "data": {
      "text/plain": [
       "\u001B[36m╭─\u001B[0m\u001B[36m───────────────────────────────────────────\u001B[0m\u001B[36m Crew Execution Started \u001B[0m\u001B[36m────────────────────────────────────────────\u001B[0m\u001B[36m─╮\u001B[0m\n",
       "\u001B[36m│\u001B[0m                                                                                                                 \u001B[36m│\u001B[0m\n",
       "\u001B[36m│\u001B[0m  \u001B[1;36mCrew Execution Started\u001B[0m                                                                                         \u001B[36m│\u001B[0m\n",
       "\u001B[36m│\u001B[0m  \u001B[37mName: \u001B[0m\u001B[36mcrew\u001B[0m                                                                                                     \u001B[36m│\u001B[0m\n",
       "\u001B[36m│\u001B[0m  \u001B[37mID: \u001B[0m\u001B[36m46f84152-f4f8-4b66-a06e-3ba5fc1545e5\u001B[0m                                                                       \u001B[36m│\u001B[0m\n",
       "\u001B[36m│\u001B[0m                                                                                                                 \u001B[36m│\u001B[0m\n",
       "\u001B[36m│\u001B[0m                                                                                                                 \u001B[36m│\u001B[0m\n",
       "\u001B[36m╰─────────────────────────────────────────────────────────────────────────────────────────────────────────────────╯\u001B[0m\n"
      ],
      "text/html": [
       "<pre style=\"white-space:pre;overflow-x:auto;line-height:normal;font-family:Menlo,'DejaVu Sans Mono',consolas,'Courier New',monospace\"><span style=\"color: #008080; text-decoration-color: #008080\">╭──────────────────────────────────────────── Crew Execution Started ─────────────────────────────────────────────╮</span>\n",
       "<span style=\"color: #008080; text-decoration-color: #008080\">│</span>                                                                                                                 <span style=\"color: #008080; text-decoration-color: #008080\">│</span>\n",
       "<span style=\"color: #008080; text-decoration-color: #008080\">│</span>  <span style=\"color: #008080; text-decoration-color: #008080; font-weight: bold\">Crew Execution Started</span>                                                                                         <span style=\"color: #008080; text-decoration-color: #008080\">│</span>\n",
       "<span style=\"color: #008080; text-decoration-color: #008080\">│</span>  <span style=\"color: #c0c0c0; text-decoration-color: #c0c0c0\">Name: </span><span style=\"color: #008080; text-decoration-color: #008080\">crew</span>                                                                                                     <span style=\"color: #008080; text-decoration-color: #008080\">│</span>\n",
       "<span style=\"color: #008080; text-decoration-color: #008080\">│</span>  <span style=\"color: #c0c0c0; text-decoration-color: #c0c0c0\">ID: </span><span style=\"color: #008080; text-decoration-color: #008080\">46f84152-f4f8-4b66-a06e-3ba5fc1545e5</span>                                                                       <span style=\"color: #008080; text-decoration-color: #008080\">│</span>\n",
       "<span style=\"color: #008080; text-decoration-color: #008080\">│</span>                                                                                                                 <span style=\"color: #008080; text-decoration-color: #008080\">│</span>\n",
       "<span style=\"color: #008080; text-decoration-color: #008080\">│</span>                                                                                                                 <span style=\"color: #008080; text-decoration-color: #008080\">│</span>\n",
       "<span style=\"color: #008080; text-decoration-color: #008080\">╰─────────────────────────────────────────────────────────────────────────────────────────────────────────────────╯</span>\n",
       "</pre>\n"
      ]
     },
     "metadata": {},
     "output_type": "display_data",
     "jetTransient": {
      "display_id": null
     }
    },
    {
     "data": {
      "text/plain": [
       "\n"
      ],
      "text/html": [
       "<pre style=\"white-space:pre;overflow-x:auto;line-height:normal;font-family:Menlo,'DejaVu Sans Mono',consolas,'Courier New',monospace\">\n",
       "</pre>\n"
      ]
     },
     "metadata": {},
     "output_type": "display_data",
     "jetTransient": {
      "display_id": null
     }
    },
    {
     "data": {
      "text/plain": [
       "\u001B[1;36m🚀 Crew: \u001B[0m\u001B[1;36mcrew\u001B[0m\n",
       "└── \u001B[1;33m📋 Task: 60eea1ee-970f-46f9-a26d-6f4d4379bc74\u001B[0m\n",
       "    \u001B[37m   Status: \u001B[0m\u001B[2;33mExecuting Task...\u001B[0m\n"
      ],
      "text/html": [
       "<pre style=\"white-space:pre;overflow-x:auto;line-height:normal;font-family:Menlo,'DejaVu Sans Mono',consolas,'Courier New',monospace\"><span style=\"color: #008080; text-decoration-color: #008080; font-weight: bold\">🚀 Crew: crew</span>\n",
       "└── <span style=\"color: #808000; text-decoration-color: #808000; font-weight: bold\">📋 Task: 60eea1ee-970f-46f9-a26d-6f4d4379bc74</span>\n",
       "    <span style=\"color: #c0c0c0; text-decoration-color: #c0c0c0\">   Status: </span><span style=\"color: #bfbf7f; text-decoration-color: #bfbf7f\">Executing Task...</span>\n",
       "</pre>\n"
      ]
     },
     "metadata": {},
     "output_type": "display_data",
     "jetTransient": {
      "display_id": null
     }
    },
    {
     "data": {
      "text/plain": [
       "\n"
      ],
      "text/html": [
       "<pre style=\"white-space:pre;overflow-x:auto;line-height:normal;font-family:Menlo,'DejaVu Sans Mono',consolas,'Courier New',monospace\">\n",
       "</pre>\n"
      ]
     },
     "metadata": {},
     "output_type": "display_data",
     "jetTransient": {
      "display_id": null
     }
    },
    {
     "data": {
      "text/plain": [
       "\u001B[1;36m🚀 Crew: \u001B[0m\u001B[1;36mcrew\u001B[0m\n",
       "└── \u001B[1;33m📋 Task: 60eea1ee-970f-46f9-a26d-6f4d4379bc74\u001B[0m\n",
       "    \u001B[37m   Status: \u001B[0m\u001B[2;33mExecuting Task...\u001B[0m\n",
       "    └── \u001B[1;32m🤖 Agent: \u001B[0m\u001B[32mEmail assistant\u001B[0m\n",
       "        \u001B[37m    Status: \u001B[0m\u001B[1;32mIn Progress\u001B[0m\n"
      ],
      "text/html": [
       "<pre style=\"white-space:pre;overflow-x:auto;line-height:normal;font-family:Menlo,'DejaVu Sans Mono',consolas,'Courier New',monospace\"><span style=\"color: #008080; text-decoration-color: #008080; font-weight: bold\">🚀 Crew: crew</span>\n",
       "└── <span style=\"color: #808000; text-decoration-color: #808000; font-weight: bold\">📋 Task: 60eea1ee-970f-46f9-a26d-6f4d4379bc74</span>\n",
       "    <span style=\"color: #c0c0c0; text-decoration-color: #c0c0c0\">   Status: </span><span style=\"color: #bfbf7f; text-decoration-color: #bfbf7f\">Executing Task...</span>\n",
       "    └── <span style=\"color: #008000; text-decoration-color: #008000; font-weight: bold\">🤖 Agent: </span><span style=\"color: #008000; text-decoration-color: #008000\">Email assistant</span>\n",
       "        <span style=\"color: #c0c0c0; text-decoration-color: #c0c0c0\">    Status: </span><span style=\"color: #008000; text-decoration-color: #008000; font-weight: bold\">In Progress</span>\n",
       "</pre>\n"
      ]
     },
     "metadata": {},
     "output_type": "display_data",
     "jetTransient": {
      "display_id": null
     }
    },
    {
     "data": {
      "text/plain": [
       "\n"
      ],
      "text/html": [
       "<pre style=\"white-space:pre;overflow-x:auto;line-height:normal;font-family:Menlo,'DejaVu Sans Mono',consolas,'Courier New',monospace\">\n",
       "</pre>\n"
      ]
     },
     "metadata": {},
     "output_type": "display_data",
     "jetTransient": {
      "display_id": null
     }
    },
    {
     "name": "stdout",
     "output_type": "stream",
     "text": [
      "\u001B[1m\u001B[95m# Agent:\u001B[00m \u001B[1m\u001B[92mEmail assistant\u001B[00m\n",
      "\u001B[95m## Task:\u001B[00m \u001B[92mtake the following rough email and rewrite it into a professional email. expand abbrevations : Hey team, just wanted to tell you that the demo is kind of ready, but there is still stuff left.                 may be we can show what we have and say rest is WIP.                  let me know what you do you think.Thanks\u001B[00m\n"
     ]
    },
    {
     "data": {
      "text/plain": [
       "\u001B[1;36m🚀 Crew: \u001B[0m\u001B[1;36mcrew\u001B[0m\n",
       "└── \u001B[1;33m📋 Task: 60eea1ee-970f-46f9-a26d-6f4d4379bc74\u001B[0m\n",
       "    \u001B[37m   Status: \u001B[0m\u001B[2;33mExecuting Task...\u001B[0m\n",
       "    └── \u001B[1;32m🤖 Agent: \u001B[0m\u001B[32mEmail assistant\u001B[0m\n",
       "        \u001B[37m    Status: \u001B[0m\u001B[1;32mIn Progress\u001B[0m\n",
       "        └── \u001B[1;34m🧠 \u001B[0m\u001B[34mThinking...\u001B[0m\n"
      ],
      "text/html": [
       "<pre style=\"white-space:pre;overflow-x:auto;line-height:normal;font-family:Menlo,'DejaVu Sans Mono',consolas,'Courier New',monospace\"><span style=\"color: #008080; text-decoration-color: #008080; font-weight: bold\">🚀 Crew: crew</span>\n",
       "└── <span style=\"color: #808000; text-decoration-color: #808000; font-weight: bold\">📋 Task: 60eea1ee-970f-46f9-a26d-6f4d4379bc74</span>\n",
       "    <span style=\"color: #c0c0c0; text-decoration-color: #c0c0c0\">   Status: </span><span style=\"color: #bfbf7f; text-decoration-color: #bfbf7f\">Executing Task...</span>\n",
       "    └── <span style=\"color: #008000; text-decoration-color: #008000; font-weight: bold\">🤖 Agent: </span><span style=\"color: #008000; text-decoration-color: #008000\">Email assistant</span>\n",
       "        <span style=\"color: #c0c0c0; text-decoration-color: #c0c0c0\">    Status: </span><span style=\"color: #008000; text-decoration-color: #008000; font-weight: bold\">In Progress</span>\n",
       "        └── <span style=\"color: #000080; text-decoration-color: #000080; font-weight: bold\">🧠 </span><span style=\"color: #000080; text-decoration-color: #000080\">Thinking...</span>\n",
       "</pre>\n"
      ]
     },
     "metadata": {},
     "output_type": "display_data",
     "jetTransient": {
      "display_id": null
     }
    },
    {
     "data": {
      "text/plain": [
       "\n"
      ],
      "text/html": [
       "<pre style=\"white-space:pre;overflow-x:auto;line-height:normal;font-family:Menlo,'DejaVu Sans Mono',consolas,'Courier New',monospace\">\n",
       "</pre>\n"
      ]
     },
     "metadata": {},
     "output_type": "display_data",
     "jetTransient": {
      "display_id": null
     }
    },
    {
     "data": {
      "text/plain": [
       "\u001B[1;36m🚀 Crew: \u001B[0m\u001B[1;36mcrew\u001B[0m\n",
       "└── \u001B[1;33m📋 Task: 60eea1ee-970f-46f9-a26d-6f4d4379bc74\u001B[0m\n",
       "    \u001B[37m   Status: \u001B[0m\u001B[2;33mExecuting Task...\u001B[0m\n",
       "    └── \u001B[1;32m🤖 Agent: \u001B[0m\u001B[32mEmail assistant\u001B[0m\n",
       "        \u001B[37m    Status: \u001B[0m\u001B[1;32mIn Progress\u001B[0m\n"
      ],
      "text/html": [
       "<pre style=\"white-space:pre;overflow-x:auto;line-height:normal;font-family:Menlo,'DejaVu Sans Mono',consolas,'Courier New',monospace\"><span style=\"color: #008080; text-decoration-color: #008080; font-weight: bold\">🚀 Crew: crew</span>\n",
       "└── <span style=\"color: #808000; text-decoration-color: #808000; font-weight: bold\">📋 Task: 60eea1ee-970f-46f9-a26d-6f4d4379bc74</span>\n",
       "    <span style=\"color: #c0c0c0; text-decoration-color: #c0c0c0\">   Status: </span><span style=\"color: #bfbf7f; text-decoration-color: #bfbf7f\">Executing Task...</span>\n",
       "    └── <span style=\"color: #008000; text-decoration-color: #008000; font-weight: bold\">🤖 Agent: </span><span style=\"color: #008000; text-decoration-color: #008000\">Email assistant</span>\n",
       "        <span style=\"color: #c0c0c0; text-decoration-color: #c0c0c0\">    Status: </span><span style=\"color: #008000; text-decoration-color: #008000; font-weight: bold\">In Progress</span>\n",
       "</pre>\n"
      ]
     },
     "metadata": {},
     "output_type": "display_data",
     "jetTransient": {
      "display_id": null
     }
    },
    {
     "data": {
      "text/plain": [
       "\n"
      ],
      "text/html": [
       "<pre style=\"white-space:pre;overflow-x:auto;line-height:normal;font-family:Menlo,'DejaVu Sans Mono',consolas,'Courier New',monospace\">\n",
       "</pre>\n"
      ]
     },
     "metadata": {},
     "output_type": "display_data",
     "jetTransient": {
      "display_id": null
     }
    },
    {
     "name": "stdout",
     "output_type": "stream",
     "text": [
      "\n",
      "\n",
      "\u001B[1m\u001B[95m# Agent:\u001B[00m \u001B[1m\u001B[92mEmail assistant\u001B[00m\n",
      "\u001B[95m## Final Answer:\u001B[00m \u001B[92m\n",
      "Subject: Demo Readiness Update and Discussion\n",
      "\n",
      "Dear Team,\n",
      "\n",
      "I am writing to provide an update on the status of the demo. The demonstration is largely ready for presentation; however, there are still a few outstanding items that require completion.\n",
      "\n",
      "I would like to propose that we proceed with showcasing the current progress and clearly communicate that the remaining aspects are still \"Work In Progress.\"\n",
      "\n",
      "Please let me know your thoughts on this approach and if you have any alternative suggestions.\n",
      "\n",
      "Thank you,\n",
      "\n",
      "[Your Name]\u001B[00m\n",
      "\n",
      "\n"
     ]
    },
    {
     "data": {
      "text/plain": [
       "\u001B[1;36m🚀 Crew: \u001B[0m\u001B[1;36mcrew\u001B[0m\n",
       "└── \u001B[1;33m📋 Task: 60eea1ee-970f-46f9-a26d-6f4d4379bc74\u001B[0m\n",
       "    \u001B[37m   Status: \u001B[0m\u001B[2;33mExecuting Task...\u001B[0m\n",
       "    └── \u001B[1;32m🤖 Agent: \u001B[0m\u001B[32mEmail assistant\u001B[0m\n",
       "        \u001B[37m    Status: \u001B[0m\u001B[1;32m✅ Completed\u001B[0m\n"
      ],
      "text/html": [
       "<pre style=\"white-space:pre;overflow-x:auto;line-height:normal;font-family:Menlo,'DejaVu Sans Mono',consolas,'Courier New',monospace\"><span style=\"color: #008080; text-decoration-color: #008080; font-weight: bold\">🚀 Crew: crew</span>\n",
       "└── <span style=\"color: #808000; text-decoration-color: #808000; font-weight: bold\">📋 Task: 60eea1ee-970f-46f9-a26d-6f4d4379bc74</span>\n",
       "    <span style=\"color: #c0c0c0; text-decoration-color: #c0c0c0\">   Status: </span><span style=\"color: #bfbf7f; text-decoration-color: #bfbf7f\">Executing Task...</span>\n",
       "    └── <span style=\"color: #008000; text-decoration-color: #008000; font-weight: bold\">🤖 Agent: </span><span style=\"color: #008000; text-decoration-color: #008000\">Email assistant</span>\n",
       "        <span style=\"color: #c0c0c0; text-decoration-color: #c0c0c0\">    Status: </span><span style=\"color: #008000; text-decoration-color: #008000; font-weight: bold\">✅ Completed</span>\n",
       "</pre>\n"
      ]
     },
     "metadata": {},
     "output_type": "display_data",
     "jetTransient": {
      "display_id": null
     }
    },
    {
     "data": {
      "text/plain": [
       "\n"
      ],
      "text/html": [
       "<pre style=\"white-space:pre;overflow-x:auto;line-height:normal;font-family:Menlo,'DejaVu Sans Mono',consolas,'Courier New',monospace\">\n",
       "</pre>\n"
      ]
     },
     "metadata": {},
     "output_type": "display_data",
     "jetTransient": {
      "display_id": null
     }
    },
    {
     "data": {
      "text/plain": [
       "\u001B[1;36m🚀 Crew: \u001B[0m\u001B[1;36mcrew\u001B[0m\n",
       "└── \u001B[1;32m📋 Task: 60eea1ee-970f-46f9-a26d-6f4d4379bc74\u001B[0m\n",
       "    \u001B[37m   Assigned to: \u001B[0m\u001B[32mEmail assistant\u001B[0m\n",
       "    \u001B[37m   Status: \u001B[0m\u001B[1;32m✅ Completed\u001B[0m\n",
       "    └── \u001B[1;32m🤖 Agent: \u001B[0m\u001B[32mEmail assistant\u001B[0m\n",
       "        \u001B[37m    Status: \u001B[0m\u001B[1;32m✅ Completed\u001B[0m\n"
      ],
      "text/html": [
       "<pre style=\"white-space:pre;overflow-x:auto;line-height:normal;font-family:Menlo,'DejaVu Sans Mono',consolas,'Courier New',monospace\"><span style=\"color: #008080; text-decoration-color: #008080; font-weight: bold\">🚀 Crew: crew</span>\n",
       "└── <span style=\"color: #008000; text-decoration-color: #008000; font-weight: bold\">📋 Task: 60eea1ee-970f-46f9-a26d-6f4d4379bc74</span>\n",
       "    <span style=\"color: #c0c0c0; text-decoration-color: #c0c0c0\">   Assigned to: </span><span style=\"color: #008000; text-decoration-color: #008000\">Email assistant</span>\n",
       "    <span style=\"color: #c0c0c0; text-decoration-color: #c0c0c0\">   Status: </span><span style=\"color: #008000; text-decoration-color: #008000; font-weight: bold\">✅ Completed</span>\n",
       "    └── <span style=\"color: #008000; text-decoration-color: #008000; font-weight: bold\">🤖 Agent: </span><span style=\"color: #008000; text-decoration-color: #008000\">Email assistant</span>\n",
       "        <span style=\"color: #c0c0c0; text-decoration-color: #c0c0c0\">    Status: </span><span style=\"color: #008000; text-decoration-color: #008000; font-weight: bold\">✅ Completed</span>\n",
       "</pre>\n"
      ]
     },
     "metadata": {},
     "output_type": "display_data",
     "jetTransient": {
      "display_id": null
     }
    },
    {
     "data": {
      "text/plain": [
       "\u001B[32m╭─\u001B[0m\u001B[32m───────────────────────────────────────────────\u001B[0m\u001B[32m Task Completion \u001B[0m\u001B[32m───────────────────────────────────────────────\u001B[0m\u001B[32m─╮\u001B[0m\n",
       "\u001B[32m│\u001B[0m                                                                                                                 \u001B[32m│\u001B[0m\n",
       "\u001B[32m│\u001B[0m  \u001B[1;32mTask Completed\u001B[0m                                                                                                 \u001B[32m│\u001B[0m\n",
       "\u001B[32m│\u001B[0m  \u001B[37mName: \u001B[0m\u001B[32m60eea1ee-970f-46f9-a26d-6f4d4379bc74\u001B[0m                                                                     \u001B[32m│\u001B[0m\n",
       "\u001B[32m│\u001B[0m  \u001B[37mAgent: \u001B[0m\u001B[32mEmail assistant\u001B[0m                                                                                         \u001B[32m│\u001B[0m\n",
       "\u001B[32m│\u001B[0m                                                                                                                 \u001B[32m│\u001B[0m\n",
       "\u001B[32m│\u001B[0m                                                                                                                 \u001B[32m│\u001B[0m\n",
       "\u001B[32m╰─────────────────────────────────────────────────────────────────────────────────────────────────────────────────╯\u001B[0m\n"
      ],
      "text/html": [
       "<pre style=\"white-space:pre;overflow-x:auto;line-height:normal;font-family:Menlo,'DejaVu Sans Mono',consolas,'Courier New',monospace\"><span style=\"color: #008000; text-decoration-color: #008000\">╭──────────────────────────────────────────────── Task Completion ────────────────────────────────────────────────╮</span>\n",
       "<span style=\"color: #008000; text-decoration-color: #008000\">│</span>                                                                                                                 <span style=\"color: #008000; text-decoration-color: #008000\">│</span>\n",
       "<span style=\"color: #008000; text-decoration-color: #008000\">│</span>  <span style=\"color: #008000; text-decoration-color: #008000; font-weight: bold\">Task Completed</span>                                                                                                 <span style=\"color: #008000; text-decoration-color: #008000\">│</span>\n",
       "<span style=\"color: #008000; text-decoration-color: #008000\">│</span>  <span style=\"color: #c0c0c0; text-decoration-color: #c0c0c0\">Name: </span><span style=\"color: #008000; text-decoration-color: #008000\">60eea1ee-970f-46f9-a26d-6f4d4379bc74</span>                                                                     <span style=\"color: #008000; text-decoration-color: #008000\">│</span>\n",
       "<span style=\"color: #008000; text-decoration-color: #008000\">│</span>  <span style=\"color: #c0c0c0; text-decoration-color: #c0c0c0\">Agent: </span><span style=\"color: #008000; text-decoration-color: #008000\">Email assistant</span>                                                                                         <span style=\"color: #008000; text-decoration-color: #008000\">│</span>\n",
       "<span style=\"color: #008000; text-decoration-color: #008000\">│</span>                                                                                                                 <span style=\"color: #008000; text-decoration-color: #008000\">│</span>\n",
       "<span style=\"color: #008000; text-decoration-color: #008000\">│</span>                                                                                                                 <span style=\"color: #008000; text-decoration-color: #008000\">│</span>\n",
       "<span style=\"color: #008000; text-decoration-color: #008000\">╰─────────────────────────────────────────────────────────────────────────────────────────────────────────────────╯</span>\n",
       "</pre>\n"
      ]
     },
     "metadata": {},
     "output_type": "display_data",
     "jetTransient": {
      "display_id": null
     }
    },
    {
     "data": {
      "text/plain": [
       "\n"
      ],
      "text/html": [
       "<pre style=\"white-space:pre;overflow-x:auto;line-height:normal;font-family:Menlo,'DejaVu Sans Mono',consolas,'Courier New',monospace\">\n",
       "</pre>\n"
      ]
     },
     "metadata": {},
     "output_type": "display_data",
     "jetTransient": {
      "display_id": null
     }
    },
    {
     "data": {
      "text/plain": [
       "\u001B[32m╭─\u001B[0m\u001B[32m───────────────────────────────────────────────\u001B[0m\u001B[32m Crew Completion \u001B[0m\u001B[32m───────────────────────────────────────────────\u001B[0m\u001B[32m─╮\u001B[0m\n",
       "\u001B[32m│\u001B[0m                                                                                                                 \u001B[32m│\u001B[0m\n",
       "\u001B[32m│\u001B[0m  \u001B[1;32mCrew Execution Completed\u001B[0m                                                                                       \u001B[32m│\u001B[0m\n",
       "\u001B[32m│\u001B[0m  \u001B[37mName: \u001B[0m\u001B[32mcrew\u001B[0m                                                                                                     \u001B[32m│\u001B[0m\n",
       "\u001B[32m│\u001B[0m  \u001B[37mID: \u001B[0m\u001B[32m46f84152-f4f8-4b66-a06e-3ba5fc1545e5\u001B[0m                                                                       \u001B[32m│\u001B[0m\n",
       "\u001B[32m│\u001B[0m                                                                                                                 \u001B[32m│\u001B[0m\n",
       "\u001B[32m│\u001B[0m                                                                                                                 \u001B[32m│\u001B[0m\n",
       "\u001B[32m╰─────────────────────────────────────────────────────────────────────────────────────────────────────────────────╯\u001B[0m\n"
      ],
      "text/html": [
       "<pre style=\"white-space:pre;overflow-x:auto;line-height:normal;font-family:Menlo,'DejaVu Sans Mono',consolas,'Courier New',monospace\"><span style=\"color: #008000; text-decoration-color: #008000\">╭──────────────────────────────────────────────── Crew Completion ────────────────────────────────────────────────╮</span>\n",
       "<span style=\"color: #008000; text-decoration-color: #008000\">│</span>                                                                                                                 <span style=\"color: #008000; text-decoration-color: #008000\">│</span>\n",
       "<span style=\"color: #008000; text-decoration-color: #008000\">│</span>  <span style=\"color: #008000; text-decoration-color: #008000; font-weight: bold\">Crew Execution Completed</span>                                                                                       <span style=\"color: #008000; text-decoration-color: #008000\">│</span>\n",
       "<span style=\"color: #008000; text-decoration-color: #008000\">│</span>  <span style=\"color: #c0c0c0; text-decoration-color: #c0c0c0\">Name: </span><span style=\"color: #008000; text-decoration-color: #008000\">crew</span>                                                                                                     <span style=\"color: #008000; text-decoration-color: #008000\">│</span>\n",
       "<span style=\"color: #008000; text-decoration-color: #008000\">│</span>  <span style=\"color: #c0c0c0; text-decoration-color: #c0c0c0\">ID: </span><span style=\"color: #008000; text-decoration-color: #008000\">46f84152-f4f8-4b66-a06e-3ba5fc1545e5</span>                                                                       <span style=\"color: #008000; text-decoration-color: #008000\">│</span>\n",
       "<span style=\"color: #008000; text-decoration-color: #008000\">│</span>                                                                                                                 <span style=\"color: #008000; text-decoration-color: #008000\">│</span>\n",
       "<span style=\"color: #008000; text-decoration-color: #008000\">│</span>                                                                                                                 <span style=\"color: #008000; text-decoration-color: #008000\">│</span>\n",
       "<span style=\"color: #008000; text-decoration-color: #008000\">╰─────────────────────────────────────────────────────────────────────────────────────────────────────────────────╯</span>\n",
       "</pre>\n"
      ]
     },
     "metadata": {},
     "output_type": "display_data",
     "jetTransient": {
      "display_id": null
     }
    },
    {
     "data": {
      "text/plain": [
       "\n"
      ],
      "text/html": [
       "<pre style=\"white-space:pre;overflow-x:auto;line-height:normal;font-family:Menlo,'DejaVu Sans Mono',consolas,'Courier New',monospace\">\n",
       "</pre>\n"
      ]
     },
     "metadata": {},
     "output_type": "display_data",
     "jetTransient": {
      "display_id": null
     }
    },
    {
     "name": "stdout",
     "output_type": "stream",
     "text": [
      "Subject: Demo Readiness Update and Discussion\n",
      "\n",
      "Dear Team,\n",
      "\n",
      "I am writing to provide an update on the status of the demo. The demonstration is largely ready for presentation; however, there are still a few outstanding items that require completion.\n",
      "\n",
      "I would like to propose that we proceed with showcasing the current progress and clearly communicate that the remaining aspects are still \"Work In Progress.\"\n",
      "\n",
      "Please let me know your thoughts on this approach and if you have any alternative suggestions.\n",
      "\n",
      "Thank you,\n",
      "\n",
      "[Your Name]\n"
     ]
    }
   ],
   "execution_count": 15
  },
  {
   "metadata": {},
   "cell_type": "code",
   "outputs": [],
   "execution_count": null,
   "source": "",
   "id": "b9e2a3f740070f62"
  },
  {
   "metadata": {},
   "cell_type": "code",
   "outputs": [],
   "execution_count": null,
   "source": "",
   "id": "d0146e6295737c25"
  },
  {
   "metadata": {
    "ExecuteTime": {
     "end_time": "2025-09-10T13:21:27.495157Z",
     "start_time": "2025-09-10T13:21:27.315349Z"
    }
   },
   "cell_type": "code",
   "source": "",
   "id": "94bdc7fe64b31bb8",
   "outputs": [],
   "execution_count": null
  },
  {
   "metadata": {
    "ExecuteTime": {
     "end_time": "2025-09-10T13:22:02.512066Z",
     "start_time": "2025-09-10T13:22:02.479222Z"
    }
   },
   "cell_type": "code",
   "source": "",
   "id": "ee28acad4a4e2a34",
   "outputs": [],
   "execution_count": null
  },
  {
   "metadata": {},
   "cell_type": "code",
   "outputs": [],
   "execution_count": null,
   "source": "",
   "id": "66de41bf18237966"
  },
  {
   "metadata": {},
   "cell_type": "code",
   "outputs": [],
   "execution_count": null,
   "source": "",
   "id": "6a478a75c8a41571"
  },
  {
   "metadata": {},
   "cell_type": "code",
   "outputs": [],
   "execution_count": null,
   "source": "",
   "id": "80604a0dc162f51b"
  }
 ],
 "metadata": {
  "kernelspec": {
   "display_name": "Python 3",
   "language": "python",
   "name": "python3"
  },
  "language_info": {
   "codemirror_mode": {
    "name": "ipython",
    "version": 2
   },
   "file_extension": ".py",
   "mimetype": "text/x-python",
   "name": "python",
   "nbconvert_exporter": "python",
   "pygments_lexer": "ipython2",
   "version": "2.7.6"
  }
 },
 "nbformat": 4,
 "nbformat_minor": 5
}
